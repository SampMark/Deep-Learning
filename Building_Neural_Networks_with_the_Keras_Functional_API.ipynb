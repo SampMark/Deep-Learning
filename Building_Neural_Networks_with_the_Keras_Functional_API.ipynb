{
  "nbformat": 4,
  "nbformat_minor": 0,
  "metadata": {
    "colab": {
      "provenance": [],
      "authorship_tag": "ABX9TyPGq+qOMWf7Wff8F5hf2OVE",
      "include_colab_link": true
    },
    "kernelspec": {
      "name": "python3",
      "display_name": "Python 3"
    },
    "language_info": {
      "name": "python"
    }
  },
  "cells": [
    {
      "cell_type": "markdown",
      "metadata": {
        "id": "view-in-github",
        "colab_type": "text"
      },
      "source": [
        "<a href=\"https://colab.research.google.com/github/SampMark/Deep-Learning/blob/main/Building_Neural_Networks_with_the_Keras_Functional_API.ipynb\" target=\"_parent\"><img src=\"https://colab.research.google.com/assets/colab-badge.svg\" alt=\"Open In Colab\"/></a>"
      ]
    },
    {
      "cell_type": "markdown",
      "source": [
        "# **Construindo Redes Neurais com a API Funcional do Keras**\n",
        "\n",
        "## **Introdução**\n",
        "A API funcional do Keras oferece uma abordagem mais robusta e flexível para a construção de modelos de redes neurais, superando as limitações da API sequencial.\n",
        "\n",
        "Enquanto a **API sequencial** é ideal para modelos simples e lineares, a **API funcional** expande as possibilidades ao permitir a construção de arquiteturas complexas, como redes com múltiplas entradas e saídas, camadas compartilhadas e conexões não lineares. Este projeto explora as vantagens da API funcional e apresenta um guia prático para sua implementação.\n",
        "\n",
        "## **Por que usar a API Funcional?**\n",
        "\n",
        "A **API funcional** do Keras é especialmente útil em cenários que exigem flexibilidade na definição de fluxos de dados. permite a criação de modelos complexos com múltiplas entradas e saídas, camadas compartilhadas e até mesmo fluxos de dados não lineares.\n",
        "\n",
        "A flexibilidade é crucial para abordar problemas complexos e explorar arquiteturas de redes neurais inovadoras, permitindo a cientístas de dados explorarem e se adaptem melhor às necessidades específicas de problemas complexos.\n",
        "\n",
        "A utilização da **API funcional** permite a criação de:\n",
        "\n",
        "1. **Modelos com múltiplas entradas e saídas**: fundamental em tarefas como processamento multimodal, em que diferentes tipos de dados são integrados (ex.: texto e imagens).\n",
        "\n",
        "2. **Camadas compartilhadas**: ideal para arquiteturas como redes neurais siamêsas, utilizadas em tarefas de verificação, como identificação de duplicação de imagens ou comparação de textos.\n",
        "\n",
        "3. **Arquiteturas complexas**: redes com fluxos de dados não lineares, conexões residuais (como em ResNets) ou até mesmo blocos iterativos de processamento.\n",
        "\n",
        "## **Importando e Instalando as Bibliotecas**\n",
        "\n",
        "---\n",
        "\n"
      ],
      "metadata": {
        "id": "WFoykcF7l82C"
      }
    },
    {
      "cell_type": "code",
      "execution_count": 1,
      "metadata": {
        "colab": {
          "base_uri": "https://localhost:8080/"
        },
        "id": "HWvj3zbPlob4",
        "outputId": "10a399b6-44f4-4fce-f097-9e69a770b3b1"
      },
      "outputs": [
        {
          "output_type": "stream",
          "name": "stdout",
          "text": [
            "Requirement already satisfied: tensorflow in /usr/local/lib/python3.11/dist-packages (2.17.1)\n",
            "Requirement already satisfied: absl-py>=1.0.0 in /usr/local/lib/python3.11/dist-packages (from tensorflow) (1.4.0)\n",
            "Requirement already satisfied: astunparse>=1.6.0 in /usr/local/lib/python3.11/dist-packages (from tensorflow) (1.6.3)\n",
            "Requirement already satisfied: flatbuffers>=24.3.25 in /usr/local/lib/python3.11/dist-packages (from tensorflow) (24.12.23)\n",
            "Requirement already satisfied: gast!=0.5.0,!=0.5.1,!=0.5.2,>=0.2.1 in /usr/local/lib/python3.11/dist-packages (from tensorflow) (0.6.0)\n",
            "Requirement already satisfied: google-pasta>=0.1.1 in /usr/local/lib/python3.11/dist-packages (from tensorflow) (0.2.0)\n",
            "Requirement already satisfied: h5py>=3.10.0 in /usr/local/lib/python3.11/dist-packages (from tensorflow) (3.12.1)\n",
            "Requirement already satisfied: libclang>=13.0.0 in /usr/local/lib/python3.11/dist-packages (from tensorflow) (18.1.1)\n",
            "Requirement already satisfied: ml-dtypes<0.5.0,>=0.3.1 in /usr/local/lib/python3.11/dist-packages (from tensorflow) (0.4.1)\n",
            "Requirement already satisfied: opt-einsum>=2.3.2 in /usr/local/lib/python3.11/dist-packages (from tensorflow) (3.4.0)\n",
            "Requirement already satisfied: packaging in /usr/local/lib/python3.11/dist-packages (from tensorflow) (24.2)\n",
            "Requirement already satisfied: protobuf!=4.21.0,!=4.21.1,!=4.21.2,!=4.21.3,!=4.21.4,!=4.21.5,<5.0.0dev,>=3.20.3 in /usr/local/lib/python3.11/dist-packages (from tensorflow) (4.25.5)\n",
            "Requirement already satisfied: requests<3,>=2.21.0 in /usr/local/lib/python3.11/dist-packages (from tensorflow) (2.32.3)\n",
            "Requirement already satisfied: setuptools in /usr/local/lib/python3.11/dist-packages (from tensorflow) (75.1.0)\n",
            "Requirement already satisfied: six>=1.12.0 in /usr/local/lib/python3.11/dist-packages (from tensorflow) (1.17.0)\n",
            "Requirement already satisfied: termcolor>=1.1.0 in /usr/local/lib/python3.11/dist-packages (from tensorflow) (2.5.0)\n",
            "Requirement already satisfied: typing-extensions>=3.6.6 in /usr/local/lib/python3.11/dist-packages (from tensorflow) (4.12.2)\n",
            "Requirement already satisfied: wrapt>=1.11.0 in /usr/local/lib/python3.11/dist-packages (from tensorflow) (1.17.0)\n",
            "Requirement already satisfied: grpcio<2.0,>=1.24.3 in /usr/local/lib/python3.11/dist-packages (from tensorflow) (1.69.0)\n",
            "Requirement already satisfied: tensorboard<2.18,>=2.17 in /usr/local/lib/python3.11/dist-packages (from tensorflow) (2.17.1)\n",
            "Requirement already satisfied: keras>=3.2.0 in /usr/local/lib/python3.11/dist-packages (from tensorflow) (3.5.0)\n",
            "Requirement already satisfied: tensorflow-io-gcs-filesystem>=0.23.1 in /usr/local/lib/python3.11/dist-packages (from tensorflow) (0.37.1)\n",
            "Requirement already satisfied: numpy<2.0.0,>=1.23.5 in /usr/local/lib/python3.11/dist-packages (from tensorflow) (1.26.4)\n",
            "Requirement already satisfied: wheel<1.0,>=0.23.0 in /usr/local/lib/python3.11/dist-packages (from astunparse>=1.6.0->tensorflow) (0.45.1)\n",
            "Requirement already satisfied: rich in /usr/local/lib/python3.11/dist-packages (from keras>=3.2.0->tensorflow) (13.9.4)\n",
            "Requirement already satisfied: namex in /usr/local/lib/python3.11/dist-packages (from keras>=3.2.0->tensorflow) (0.0.8)\n",
            "Requirement already satisfied: optree in /usr/local/lib/python3.11/dist-packages (from keras>=3.2.0->tensorflow) (0.13.1)\n",
            "Requirement already satisfied: charset-normalizer<4,>=2 in /usr/local/lib/python3.11/dist-packages (from requests<3,>=2.21.0->tensorflow) (3.4.1)\n",
            "Requirement already satisfied: idna<4,>=2.5 in /usr/local/lib/python3.11/dist-packages (from requests<3,>=2.21.0->tensorflow) (3.10)\n",
            "Requirement already satisfied: urllib3<3,>=1.21.1 in /usr/local/lib/python3.11/dist-packages (from requests<3,>=2.21.0->tensorflow) (2.3.0)\n",
            "Requirement already satisfied: certifi>=2017.4.17 in /usr/local/lib/python3.11/dist-packages (from requests<3,>=2.21.0->tensorflow) (2024.12.14)\n",
            "Requirement already satisfied: markdown>=2.6.8 in /usr/local/lib/python3.11/dist-packages (from tensorboard<2.18,>=2.17->tensorflow) (3.7)\n",
            "Requirement already satisfied: tensorboard-data-server<0.8.0,>=0.7.0 in /usr/local/lib/python3.11/dist-packages (from tensorboard<2.18,>=2.17->tensorflow) (0.7.2)\n",
            "Requirement already satisfied: werkzeug>=1.0.1 in /usr/local/lib/python3.11/dist-packages (from tensorboard<2.18,>=2.17->tensorflow) (3.1.3)\n",
            "Requirement already satisfied: MarkupSafe>=2.1.1 in /usr/local/lib/python3.11/dist-packages (from werkzeug>=1.0.1->tensorboard<2.18,>=2.17->tensorflow) (3.0.2)\n",
            "Requirement already satisfied: markdown-it-py>=2.2.0 in /usr/local/lib/python3.11/dist-packages (from rich->keras>=3.2.0->tensorflow) (3.0.0)\n",
            "Requirement already satisfied: pygments<3.0.0,>=2.13.0 in /usr/local/lib/python3.11/dist-packages (from rich->keras>=3.2.0->tensorflow) (2.18.0)\n",
            "Requirement already satisfied: mdurl~=0.1 in /usr/local/lib/python3.11/dist-packages (from markdown-it-py>=2.2.0->rich->keras>=3.2.0->tensorflow) (0.1.2)\n"
          ]
        }
      ],
      "source": [
        "!pip install tensorflow"
      ]
    },
    {
      "cell_type": "code",
      "source": [
        "import tensorflow as tf\n",
        "# Keras está incluído no TensorFlow como tensorflow.keras\n",
        "from tensorflow.keras.models import Model\n",
        "from tensorflow.keras.layers import Input, Dense"
      ],
      "metadata": {
        "id": "HVP-7iH_lzjH"
      },
      "execution_count": 2,
      "outputs": []
    },
    {
      "cell_type": "markdown",
      "source": [
        "# **Implementando a API Funcional**\n",
        "\n",
        "## **Passo 1: Definir a Camada de Entrada**\n",
        "\n",
        "---\n",
        "\n",
        "A camada de entrada define a forma dos dados, que serão alimentados na rede neural. Utiliza-se a função `keras.Input()` para criar a camada de entrada, especificando a forma dos dados, que define o formato dos dados esperados pelo modelo. Por exemplo, suponha que no conjunto de dados utilizado, cada entrada é um vetor de comprimento 20.\n",
        "\n",
        "* `Input(shape=(20,))` cria uma camada de entrada que espera vetores de entrada de comprimento 20.\n",
        "\n",
        "* `print(input_layer)` mostra as informações da camada, ajudando a entender o tipo de informação disponível sobre as camadas."
      ],
      "metadata": {
        "id": "dSMxypzGmeQ4"
      }
    },
    {
      "cell_type": "code",
      "source": [
        "# Definir a entrada\n",
        "input_layer = Input(shape=(20,))\n",
        "\n",
        "# Exibir informações\n",
        "print(input_layer)"
      ],
      "metadata": {
        "colab": {
          "base_uri": "https://localhost:8080/"
        },
        "id": "N1S9H980mkwR",
        "outputId": "cc4565e0-13ee-46f6-a166-3f661a7b9d42"
      },
      "execution_count": 3,
      "outputs": [
        {
          "output_type": "stream",
          "name": "stdout",
          "text": [
            "<KerasTensor shape=(None, 20), dtype=float32, sparse=False, name=keras_tensor>\n"
          ]
        }
      ]
    },
    {
      "cell_type": "markdown",
      "source": [
        "## **Passo 2: Adicionar Camadas Ocultas**\n",
        "\n",
        "---\n",
        "As camadas ocultas são responsáveis por processar as informações da camada de entrada e extrair _features_ relevantes. Utiliza-se a função `keras.layers.Dense()` para adicionar camadas densas (_fully connected_) ao modelo, são adicionadas conectando explicitamente cada camada à anterior.\n",
        "\n",
        "Cada camada oculta recebe a saída da camada anterior como sua entrada. **As camadas ocultas ajudam o modelo a aprender padrões complexos nos dados**.\n",
        "\n",
        "**Explicação**:\n",
        "\n",
        "* `Dense(64, activation='relu')` cria uma camada densa (totalmente conectada) com 64 unidades e função de ativação `ReLU`.\n",
        "\n",
        "### **Escolha da Função de Ativação**\n",
        "\n",
        "* `ReLU`: escolha padrão para camadas ocultas.\n",
        "* `Leaky ReLU`: alternativa ao ReLU, útil para evitar \"neurônios mortos\".\n",
        "* `Tanh`: preferível ao `sigmoid` em camadas ocultas, especialmente se os dados contêm valores positivos e negativos.\n",
        "* `Sigmoid`: ideal para camadas de saída em problemas de classificação binária.\n",
        "* `Softmax`:usada para normalizar saídas em problemas de classificação multiclasses.\n",
        "* `ELU`: recomendado para redes muito profundas devido à melhor propagação de gradientes.\n",
        "\n"
      ],
      "metadata": {
        "id": "M1BD9L3Em5LF"
      }
    },
    {
      "cell_type": "code",
      "source": [
        "# Adicionar camadas ocultas\n",
        "hidden_layer1 = Dense(64, activation='relu')(input_layer)\n",
        "hidden_layer2 = Dense(64, activation='relu')(hidden_layer1)"
      ],
      "metadata": {
        "id": "3RgYe42KnKKX"
      },
      "execution_count": 4,
      "outputs": []
    },
    {
      "cell_type": "markdown",
      "source": [
        "### **Comparativo das Funções de Ativação**\n",
        "\n",
        "A tabela a seguir resume as principais características das funções de ativação:\n",
        "\n",
        "| **Função de Ativação** | **Fórmula**                 | **Intervalo de Saída** | **Vantagens**                                                                 | **Desvantagens**                                  | **Uso Principal**                        |\n",
        "|-------------------------|----------------------------|-------------------------|-------------------------------------------------------------------------------|--------------------------------------------------|------------------------------------------|\n",
        "| ReLU                   | $ f(x) = \\max(0, x) $   | $[0, +\\infty)$       | Simples, resolve *vanishing gradient*, eficiente computacionalmente          | Pode causar neurônios mortos (*dead neurons*)    | Camadas ocultas                          |\n",
        "| Tanh                   | $ f(x) = \\tanh(x) $     | $(-1, 1)$            | Centrado em zero, melhor que sigmoid para camadas ocultas                    | Sofre *vanishing gradient*                       | Camadas ocultas                          |\n",
        "| Sigmoid                | $ f(x) = \\frac{1}{1+e^{-x}} $ | $(0, 1)$            | Bom para probabilidades (saídas de classificação binária)                    | Saturação para 0 ou 1, *vanishing gradient*      | Camadas de saída (classificação binária) |\n",
        "| Softmax                | $ f(x_i) = \\frac{e^{x_i}}{\\sum e^{x_j}} $ | $(0, 1), \\text{soma} = 1$ | Normaliza saídas como probabilidades                                       | Não utilizada em camadas ocultas                | Camadas de saída (classificação multiclasses) |\n",
        "| Leaky ReLU             | $ f(x) = \\begin{cases} x, & x > 0 \\\\ \\alpha x, & \\text{senão} \\end{cases} $ | $(-\\infty, +\\infty)$ | Resolve neurônios mortos, eficiente para redes profundas                   | Necessário ajuste do $alpha$                 | Camadas ocultas                          |\n",
        "| ELU                    | $ f(x) = \\begin{cases} x, & x > 0 \\\\ \\alpha(e^x - 1), & \\text{senão} \\end{cases} $ | $(-1, +\\infty)$ | Resolve neurônios mortos, melhora propagação de gradientes                  | Custo computacional levemente maior             | Camadas ocultas                          |\n"
      ],
      "metadata": {
        "id": "iwyIsv0J_8bA"
      }
    },
    {
      "cell_type": "markdown",
      "source": [
        "## **Passo 3: Definir a Camada de Saída**\n",
        "\n",
        "---\n",
        "\n",
        "A camada de saída especifica o tipo de tarefa que o modelo realizará, como classificação binária ou regressão, entre outros. Ou seja, a camada de saída produz a predição final do modelo. Logo, a escolha da função de ativação na camada de saída depende da tarefa em questão.\n",
        "\n",
        "Por exemplo, supondo um problema de classificação binária, a função de ativação sigmoide é preferível devido à sua capacidade de produzir probabilidades.\n",
        "\n",
        "A função sigmoide comprime a saída da rede neural em um intervalo entre 0 e 1, o que pode ser interpretado como a probabilidade da entrada pertencer à classe positiva. Essa característica facilita a tomada de decisão e a definição de limiares para a classificação. Além disso, a sigmoide é uma função monotônica e diferenciável, o que auxilia no processo de treinamento da rede neural.\n",
        "\n",
        "**Explicação**:\n",
        "\n",
        "* `Dense(1, activation='sigmoid')` cria uma camada densa com 1 unidade e uma função de ativação `sigmoide`, adequada para classificação binária."
      ],
      "metadata": {
        "id": "k9z9ncSInL8q"
      }
    },
    {
      "cell_type": "code",
      "source": [
        "# Definir a camada de saída\n",
        "output_layer = Dense(1, activation='sigmoid')(hidden_layer2)"
      ],
      "metadata": {
        "id": "vSVjLhfbnbJo"
      },
      "execution_count": 5,
      "outputs": []
    },
    {
      "cell_type": "markdown",
      "source": [
        "## **Passo 4: Criar o Modelo**\n",
        "\n",
        "Neste passo será criado o modelo, conectando-se a camada de entrada à camada de saída para formar o modelo completo.\n",
        "\n",
        "**Explicação**:\n",
        "\n",
        "* `Model(inputs=input_layer, outputs=output_layer)` cria um modelo Keras que conecta a camada de entrada à camada de saída por meio das camadas ocultas.\n",
        "\n",
        "* `model.summary()` fornece um resumo do modelo, mostrando as camadas, suas formas e o número de parâmetros, possibilitando a interpretação da sua arquitetura."
      ],
      "metadata": {
        "id": "6OrWOSgvnpt8"
      }
    },
    {
      "cell_type": "code",
      "source": [
        "# Criar o modelo\n",
        "model = Model(inputs=input_layer, outputs=output_layer)\n",
        "\n",
        "# Exibir sumário\n",
        "model.summary()"
      ],
      "metadata": {
        "colab": {
          "base_uri": "https://localhost:8080/",
          "height": 267
        },
        "id": "H4YWDX4snzql",
        "outputId": "7bd0cd40-a26d-4d9e-d83f-fa51c6c9a45f"
      },
      "execution_count": 6,
      "outputs": [
        {
          "output_type": "display_data",
          "data": {
            "text/plain": [
              "\u001b[1mModel: \"functional\"\u001b[0m\n"
            ],
            "text/html": [
              "<pre style=\"white-space:pre;overflow-x:auto;line-height:normal;font-family:Menlo,'DejaVu Sans Mono',consolas,'Courier New',monospace\"><span style=\"font-weight: bold\">Model: \"functional\"</span>\n",
              "</pre>\n"
            ]
          },
          "metadata": {}
        },
        {
          "output_type": "display_data",
          "data": {
            "text/plain": [
              "┏━━━━━━━━━━━━━━━━━━━━━━━━━━━━━━━━━━━━━━┳━━━━━━━━━━━━━━━━━━━━━━━━━━━━━┳━━━━━━━━━━━━━━━━━┓\n",
              "┃\u001b[1m \u001b[0m\u001b[1mLayer (type)                        \u001b[0m\u001b[1m \u001b[0m┃\u001b[1m \u001b[0m\u001b[1mOutput Shape               \u001b[0m\u001b[1m \u001b[0m┃\u001b[1m \u001b[0m\u001b[1m        Param #\u001b[0m\u001b[1m \u001b[0m┃\n",
              "┡━━━━━━━━━━━━━━━━━━━━━━━━━━━━━━━━━━━━━━╇━━━━━━━━━━━━━━━━━━━━━━━━━━━━━╇━━━━━━━━━━━━━━━━━┩\n",
              "│ input_layer (\u001b[38;5;33mInputLayer\u001b[0m)             │ (\u001b[38;5;45mNone\u001b[0m, \u001b[38;5;34m20\u001b[0m)                  │               \u001b[38;5;34m0\u001b[0m │\n",
              "├──────────────────────────────────────┼─────────────────────────────┼─────────────────┤\n",
              "│ dense (\u001b[38;5;33mDense\u001b[0m)                        │ (\u001b[38;5;45mNone\u001b[0m, \u001b[38;5;34m64\u001b[0m)                  │           \u001b[38;5;34m1,344\u001b[0m │\n",
              "├──────────────────────────────────────┼─────────────────────────────┼─────────────────┤\n",
              "│ dense_1 (\u001b[38;5;33mDense\u001b[0m)                      │ (\u001b[38;5;45mNone\u001b[0m, \u001b[38;5;34m64\u001b[0m)                  │           \u001b[38;5;34m4,160\u001b[0m │\n",
              "├──────────────────────────────────────┼─────────────────────────────┼─────────────────┤\n",
              "│ dense_2 (\u001b[38;5;33mDense\u001b[0m)                      │ (\u001b[38;5;45mNone\u001b[0m, \u001b[38;5;34m1\u001b[0m)                   │              \u001b[38;5;34m65\u001b[0m │\n",
              "└──────────────────────────────────────┴─────────────────────────────┴─────────────────┘\n"
            ],
            "text/html": [
              "<pre style=\"white-space:pre;overflow-x:auto;line-height:normal;font-family:Menlo,'DejaVu Sans Mono',consolas,'Courier New',monospace\">┏━━━━━━━━━━━━━━━━━━━━━━━━━━━━━━━━━━━━━━┳━━━━━━━━━━━━━━━━━━━━━━━━━━━━━┳━━━━━━━━━━━━━━━━━┓\n",
              "┃<span style=\"font-weight: bold\"> Layer (type)                         </span>┃<span style=\"font-weight: bold\"> Output Shape                </span>┃<span style=\"font-weight: bold\">         Param # </span>┃\n",
              "┡━━━━━━━━━━━━━━━━━━━━━━━━━━━━━━━━━━━━━━╇━━━━━━━━━━━━━━━━━━━━━━━━━━━━━╇━━━━━━━━━━━━━━━━━┩\n",
              "│ input_layer (<span style=\"color: #0087ff; text-decoration-color: #0087ff\">InputLayer</span>)             │ (<span style=\"color: #00d7ff; text-decoration-color: #00d7ff\">None</span>, <span style=\"color: #00af00; text-decoration-color: #00af00\">20</span>)                  │               <span style=\"color: #00af00; text-decoration-color: #00af00\">0</span> │\n",
              "├──────────────────────────────────────┼─────────────────────────────┼─────────────────┤\n",
              "│ dense (<span style=\"color: #0087ff; text-decoration-color: #0087ff\">Dense</span>)                        │ (<span style=\"color: #00d7ff; text-decoration-color: #00d7ff\">None</span>, <span style=\"color: #00af00; text-decoration-color: #00af00\">64</span>)                  │           <span style=\"color: #00af00; text-decoration-color: #00af00\">1,344</span> │\n",
              "├──────────────────────────────────────┼─────────────────────────────┼─────────────────┤\n",
              "│ dense_1 (<span style=\"color: #0087ff; text-decoration-color: #0087ff\">Dense</span>)                      │ (<span style=\"color: #00d7ff; text-decoration-color: #00d7ff\">None</span>, <span style=\"color: #00af00; text-decoration-color: #00af00\">64</span>)                  │           <span style=\"color: #00af00; text-decoration-color: #00af00\">4,160</span> │\n",
              "├──────────────────────────────────────┼─────────────────────────────┼─────────────────┤\n",
              "│ dense_2 (<span style=\"color: #0087ff; text-decoration-color: #0087ff\">Dense</span>)                      │ (<span style=\"color: #00d7ff; text-decoration-color: #00d7ff\">None</span>, <span style=\"color: #00af00; text-decoration-color: #00af00\">1</span>)                   │              <span style=\"color: #00af00; text-decoration-color: #00af00\">65</span> │\n",
              "└──────────────────────────────────────┴─────────────────────────────┴─────────────────┘\n",
              "</pre>\n"
            ]
          },
          "metadata": {}
        },
        {
          "output_type": "display_data",
          "data": {
            "text/plain": [
              "\u001b[1m Total params: \u001b[0m\u001b[38;5;34m5,569\u001b[0m (21.75 KB)\n"
            ],
            "text/html": [
              "<pre style=\"white-space:pre;overflow-x:auto;line-height:normal;font-family:Menlo,'DejaVu Sans Mono',consolas,'Courier New',monospace\"><span style=\"font-weight: bold\"> Total params: </span><span style=\"color: #00af00; text-decoration-color: #00af00\">5,569</span> (21.75 KB)\n",
              "</pre>\n"
            ]
          },
          "metadata": {}
        },
        {
          "output_type": "display_data",
          "data": {
            "text/plain": [
              "\u001b[1m Trainable params: \u001b[0m\u001b[38;5;34m5,569\u001b[0m (21.75 KB)\n"
            ],
            "text/html": [
              "<pre style=\"white-space:pre;overflow-x:auto;line-height:normal;font-family:Menlo,'DejaVu Sans Mono',consolas,'Courier New',monospace\"><span style=\"font-weight: bold\"> Trainable params: </span><span style=\"color: #00af00; text-decoration-color: #00af00\">5,569</span> (21.75 KB)\n",
              "</pre>\n"
            ]
          },
          "metadata": {}
        },
        {
          "output_type": "display_data",
          "data": {
            "text/plain": [
              "\u001b[1m Non-trainable params: \u001b[0m\u001b[38;5;34m0\u001b[0m (0.00 B)\n"
            ],
            "text/html": [
              "<pre style=\"white-space:pre;overflow-x:auto;line-height:normal;font-family:Menlo,'DejaVu Sans Mono',consolas,'Courier New',monospace\"><span style=\"font-weight: bold\"> Non-trainable params: </span><span style=\"color: #00af00; text-decoration-color: #00af00\">0</span> (0.00 B)\n",
              "</pre>\n"
            ]
          },
          "metadata": {}
        }
      ]
    },
    {
      "cell_type": "markdown",
      "source": [
        "## **Passo 5: Compilar o Modelo**\n",
        "\n",
        "Antes de treinar o modelo, é necessário compilá-lo, sendo necessário especificar o otimizador, a função de perda e as métricas de avaliação.\n",
        "\n",
        "**Explicação**:\n",
        "\n",
        "* `optimizer='adam'` especifica o otimizador `Adam`, uma escolha popular para treinar redes neurais.\n",
        "\n",
        "* `loss='binary_crossentropy'` especifica a função de perda para problemas de classificação binária.\n",
        "\n",
        "* `metrics=['accuracy']` instrui o Keras a avaliar o modelo usando precisão durante o treinamento."
      ],
      "metadata": {
        "id": "TXYdgYQ4n6Wv"
      }
    },
    {
      "cell_type": "code",
      "source": [
        "# Compilar o modelo\n",
        "model.compile(optimizer='adam', loss='binary_crossentropy', metrics=['accuracy'])"
      ],
      "metadata": {
        "id": "MmsPzN2CoR7B"
      },
      "execution_count": 7,
      "outputs": []
    },
    {
      "cell_type": "markdown",
      "source": [
        "## **Passo 6: Treinar o Modelo**\n",
        "\n",
        "Depois de compilado, o modelo pode ser treinado usando dados de treinamento. Para este exemplo, vamos supor que `X_train` são seus dados de entrada de treinamento e `y_train` é o rótulo correspondente.\n",
        "\n",
        "**Explicação**:\n",
        "\n",
        "* `X_train` e `y_train` são marcadores de posição para os dados de treinamento.\n",
        "\n",
        "* `model.fit` treina o modelo para um número especificado de épocas e tamanho de lote.\n",
        "\n",
        "Os parâmetros `epochs` e `batch_size` controlam o número de iterações de treinamento e o número de exemplos processados por cada iteração, respectivamente."
      ],
      "metadata": {
        "id": "n0H8ZuvkoW87"
      }
    },
    {
      "cell_type": "code",
      "source": [
        "# Importar a biblioteca NumPy para manipulação de arrays\n",
        "import numpy as np\n",
        "\n",
        "# Gerar dados de treinamento aleatórios\n",
        "X_train = np.random.rand(1000, 20)  # 1000 exemplos com 20 features\n",
        "y_train = np.random.randint(2, size=(1000, 1))  # 1000 rótulos binários\n",
        "\n",
        "# Ajustar o modelo com os dados de treinamento\n",
        "model.fit(X_train, y_train, epochs=10, batch_size=32)"
      ],
      "metadata": {
        "colab": {
          "base_uri": "https://localhost:8080/"
        },
        "id": "RGk69bE0oWeY",
        "outputId": "4f838416-5531-4f20-f4f7-27cef08ef794"
      },
      "execution_count": 8,
      "outputs": [
        {
          "output_type": "stream",
          "name": "stdout",
          "text": [
            "Epoch 1/10\n",
            "\u001b[1m32/32\u001b[0m \u001b[32m━━━━━━━━━━━━━━━━━━━━\u001b[0m\u001b[37m\u001b[0m \u001b[1m2s\u001b[0m 2ms/step - accuracy: 0.4864 - loss: 0.7026\n",
            "Epoch 2/10\n",
            "\u001b[1m32/32\u001b[0m \u001b[32m━━━━━━━━━━━━━━━━━━━━\u001b[0m\u001b[37m\u001b[0m \u001b[1m0s\u001b[0m 1ms/step - accuracy: 0.5257 - loss: 0.6922 \n",
            "Epoch 3/10\n",
            "\u001b[1m32/32\u001b[0m \u001b[32m━━━━━━━━━━━━━━━━━━━━\u001b[0m\u001b[37m\u001b[0m \u001b[1m0s\u001b[0m 2ms/step - accuracy: 0.5292 - loss: 0.6893\n",
            "Epoch 4/10\n",
            "\u001b[1m32/32\u001b[0m \u001b[32m━━━━━━━━━━━━━━━━━━━━\u001b[0m\u001b[37m\u001b[0m \u001b[1m0s\u001b[0m 3ms/step - accuracy: 0.5213 - loss: 0.6867\n",
            "Epoch 5/10\n",
            "\u001b[1m32/32\u001b[0m \u001b[32m━━━━━━━━━━━━━━━━━━━━\u001b[0m\u001b[37m\u001b[0m \u001b[1m0s\u001b[0m 3ms/step - accuracy: 0.5739 - loss: 0.6836\n",
            "Epoch 6/10\n",
            "\u001b[1m32/32\u001b[0m \u001b[32m━━━━━━━━━━━━━━━━━━━━\u001b[0m\u001b[37m\u001b[0m \u001b[1m0s\u001b[0m 3ms/step - accuracy: 0.5471 - loss: 0.6833\n",
            "Epoch 7/10\n",
            "\u001b[1m32/32\u001b[0m \u001b[32m━━━━━━━━━━━━━━━━━━━━\u001b[0m\u001b[37m\u001b[0m \u001b[1m0s\u001b[0m 3ms/step - accuracy: 0.5756 - loss: 0.6788\n",
            "Epoch 8/10\n",
            "\u001b[1m32/32\u001b[0m \u001b[32m━━━━━━━━━━━━━━━━━━━━\u001b[0m\u001b[37m\u001b[0m \u001b[1m0s\u001b[0m 3ms/step - accuracy: 0.5924 - loss: 0.6773\n",
            "Epoch 9/10\n",
            "\u001b[1m32/32\u001b[0m \u001b[32m━━━━━━━━━━━━━━━━━━━━\u001b[0m\u001b[37m\u001b[0m \u001b[1m0s\u001b[0m 3ms/step - accuracy: 0.5650 - loss: 0.6758\n",
            "Epoch 10/10\n",
            "\u001b[1m32/32\u001b[0m \u001b[32m━━━━━━━━━━━━━━━━━━━━\u001b[0m\u001b[37m\u001b[0m \u001b[1m0s\u001b[0m 4ms/step - accuracy: 0.5571 - loss: 0.6763\n"
          ]
        },
        {
          "output_type": "execute_result",
          "data": {
            "text/plain": [
              "<keras.src.callbacks.history.History at 0x789c1a521e50>"
            ]
          },
          "metadata": {},
          "execution_count": 8
        }
      ]
    },
    {
      "cell_type": "markdown",
      "source": [
        "## **Passo 7: Avaliar o Modelo**\n",
        "\n",
        "Após o treinamento, é necessário avaliá-lo com base nos dados de teste, para ver o quão bem ele se sai.\n",
        "\n",
        "Explicação:\n",
        "\n",
        "* `model.evaluate` calcula `loss` e `accuracy`, respectivamente a perda e a precisão do modelo em dados de teste.\n",
        "  * A perda indica o quão bem o modelo se ajusta aos dados, enquanto a acurácia mede a proporção de exemplos classificados corretamente.\n",
        "\n",
        "* `X_test` e `y_test` são marcadores de posição para os dados de teste, neste exemplo:\n",
        "  * `X_test` contém 200 exemplos com 20 features aleatórias cada.\n",
        "  * `y_test` contém 200 rótulos binários (0 ou 1) correspondentes."
      ],
      "metadata": {
        "id": "x12UZ2dOo0-D"
      }
    },
    {
      "cell_type": "code",
      "source": [
        "# Gerar dados de teste aleatórios\n",
        "X_test = np.random.rand(200, 20)  # 200 exemplos com 20 features cada\n",
        "y_test = np.random.randint(2, size=(200, 1))  # 200 rótulos binários\n",
        "\n",
        "# Avaliar o modelo com os dados de teste\n",
        "loss, accuracy = model.evaluate(X_test, y_test)\n",
        "\n",
        "# Imprimir os resultados da avaliação\n",
        "print(f'Perda nos dados de teste (loss): {loss}')  # Imprime o valor da perda nos dados de teste\n",
        "print(f'Teste de Acurácia: {accuracy}')  # Imprime a acurácia nos dados de teste"
      ],
      "metadata": {
        "colab": {
          "base_uri": "https://localhost:8080/"
        },
        "id": "7CpxQXL8pCM5",
        "outputId": "9cc1ebc1-525e-4e4d-ebd9-efcfc1f35ede"
      },
      "execution_count": 9,
      "outputs": [
        {
          "output_type": "stream",
          "name": "stdout",
          "text": [
            "\u001b[1m7/7\u001b[0m \u001b[32m━━━━━━━━━━━━━━━━━━━━\u001b[0m\u001b[37m\u001b[0m \u001b[1m0s\u001b[0m 2ms/step - accuracy: 0.5463 - loss: 0.6895  \n",
            "Perda nos dados de teste (loss): 0.6905525326728821\n",
            "Teste de Acurácia: 0.5649999976158142\n"
          ]
        }
      ]
    },
    {
      "cell_type": "code",
      "source": [
        "from sklearn.metrics import classification_report, confusion_matrix, roc_auc_score\n",
        "\n",
        "# Previsões no conjunto de teste\n",
        "y_pred = model.predict(X_test)\n",
        "y_pred_classes = (y_pred > 0.5).astype(\"int32\")\n",
        "\n",
        "# Relatório de classificação\n",
        "print(classification_report(y_test, y_pred_classes))\n",
        "\n",
        "# Matriz de confusão\n",
        "cm = confusion_matrix(y_test, y_pred_classes)\n",
        "print(\"Matriz de Confusão:\")\n",
        "print(cm)\n",
        "\n",
        "# AUC\n",
        "auc = roc_auc_score(y_test, y_pred)\n",
        "print(f\"AUC: {auc}\")"
      ],
      "metadata": {
        "colab": {
          "base_uri": "https://localhost:8080/"
        },
        "id": "iLzUFEY2PT07",
        "outputId": "994e45da-403b-4524-c9f2-4d999a422d6f"
      },
      "execution_count": 10,
      "outputs": [
        {
          "output_type": "stream",
          "name": "stdout",
          "text": [
            "\u001b[1m7/7\u001b[0m \u001b[32m━━━━━━━━━━━━━━━━━━━━\u001b[0m\u001b[37m\u001b[0m \u001b[1m0s\u001b[0m 12ms/step\n",
            "              precision    recall  f1-score   support\n",
            "\n",
            "           0       0.59      0.46      0.52       102\n",
            "           1       0.55      0.67      0.60        98\n",
            "\n",
            "    accuracy                           0.56       200\n",
            "   macro avg       0.57      0.57      0.56       200\n",
            "weighted avg       0.57      0.56      0.56       200\n",
            "\n",
            "Matriz de Confusão:\n",
            "[[47 55]\n",
            " [32 66]]\n",
            "AUC: 0.5378151260504201\n"
          ]
        }
      ]
    },
    {
      "cell_type": "markdown",
      "source": [
        "# **Referências**\n",
        "\n",
        "  GÉRON, Aurélien. **Hands-on Machine Learning with Scikit-Learn, Keras, and TensorFlow**: Unsupervised Learning Techniques. O'Reilly Media, Incorporated, 2023.\n",
        "\n",
        "\n",
        "  CHOLLET, Francois; CHOLLET, François. **Deep learning with Python**. simon and schuster, 2021.\n",
        "\n",
        "\n",
        "  TENSORFLOW. **TensorFlow Python API Documentation**. Disponível em: https://www.tensorflow.org/api_docs/python/tf. Acesso em: 19 jan. 2025."
      ],
      "metadata": {
        "id": "TInX1PFTKTAp"
      }
    }
  ]
}